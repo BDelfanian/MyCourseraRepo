{
 "cells": [
  {
   "cell_type": "markdown",
   "id": "aadd29da",
   "metadata": {},
   "source": [
    "# Data Science Tools and Ecosystem"
   ]
  },
  {
   "cell_type": "markdown",
   "id": "8ec9d780",
   "metadata": {},
   "source": [
    "In this notebook, Data Science Tools and Ecosystem are summarized."
   ]
  },
  {
   "cell_type": "markdown",
   "id": "f9be5cb9",
   "metadata": {},
   "source": [
    "**Objectives:**  \n",
    "+ Popular languages for Data Science  \n",
    "+ Commonly used libraries used by Data Scientists  \n",
    "+ Data Science Tools  \n",
    "+ Arithmetic expressions in Python"
   ]
  },
  {
   "cell_type": "markdown",
   "id": "da1a5d81",
   "metadata": {},
   "source": [
    "Some of the popular languages that Data Scientists use are:  \n",
    "1- Python  \n",
    "2- R  \n",
    "3- Julia  \n",
    "4- Scala"
   ]
  },
  {
   "cell_type": "markdown",
   "id": "b032d57f",
   "metadata": {},
   "source": [
    "Some of the commonly used libraries used by Data Scientists include:  \n",
    "1- NumPy, SciPy, Pandas, Seaborn, Matplotlib (in Python)  \n",
    "2- Pytorch, Keras, TensorFlow, Scikit-learn (in Python)  \n",
    "3- dplyr, pltly, Leaflet, caret, ggplot2 (in R)  \n",
    "4- Vegas, Big DL (in Scala)"
   ]
  },
  {
   "cell_type": "markdown",
   "id": "8430a36a",
   "metadata": {},
   "source": [
    "| Data Science Tools |\n",
    "| :------------------ |\n",
    "| Jupyter lab |\n",
    "| Apache Zeppelin |\n",
    "| RStudio |\n",
    "| Spyder |"
   ]
  },
  {
   "cell_type": "markdown",
   "id": "ddaa12e0",
   "metadata": {},
   "source": [
    "### Below are a few examples of evaluating arithmetic expressions in Python"
   ]
  },
  {
   "cell_type": "code",
   "execution_count": 1,
   "id": "ae503dbf",
   "metadata": {},
   "outputs": [
    {
     "data": {
      "text/plain": [
       "17"
      ]
     },
     "execution_count": 1,
     "metadata": {},
     "output_type": "execute_result"
    }
   ],
   "source": [
    "# This a simple arithmetic expression to mutiply then add integers\n",
    "(3*4)+5"
   ]
  },
  {
   "cell_type": "code",
   "execution_count": 6,
   "id": "9d949198",
   "metadata": {},
   "outputs": [
    {
     "name": "stdout",
     "output_type": "stream",
     "text": [
      "200 minutes equals 3.33 hours\n"
     ]
    }
   ],
   "source": [
    "# This will convert 200 minutes to hours by diving by 60\n",
    "min = 200\n",
    "hour_to_min_factor = 60\n",
    "hour = min / hour_to_min_factor\n",
    "print(f\"{min} minutes equals {round(hour,2)} hours\")"
   ]
  },
  {
   "cell_type": "markdown",
   "id": "0a85255d",
   "metadata": {},
   "source": [
    "## Author\n",
    "Behrouz Delfanian"
   ]
  },
  {
   "cell_type": "code",
   "execution_count": null,
   "id": "8694feb1",
   "metadata": {},
   "outputs": [],
   "source": []
  }
 ],
 "metadata": {
  "kernelspec": {
   "display_name": "Python 3 (ipykernel)",
   "language": "python",
   "name": "python3"
  },
  "language_info": {
   "codemirror_mode": {
    "name": "ipython",
    "version": 3
   },
   "file_extension": ".py",
   "mimetype": "text/x-python",
   "name": "python",
   "nbconvert_exporter": "python",
   "pygments_lexer": "ipython3",
   "version": "3.9.19"
  }
 },
 "nbformat": 4,
 "nbformat_minor": 5
}
